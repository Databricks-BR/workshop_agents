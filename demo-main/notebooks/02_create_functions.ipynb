{
 "cells": [
  {
   "cell_type": "markdown",
   "metadata": {
    "application/vnd.databricks.v1+cell": {
     "cellMetadata": {},
     "inputWidgets": {},
     "nuid": "f7940974-b01d-43c8-a6a5-26a74263ef77",
     "showTitle": false,
     "tableResultSettingsMap": {},
     "title": ""
    }
   },
   "source": [
    "![](https://raw.githubusercontent.com/Databricks-BR/workshop_agents/refs/heads/main/demo-main/img/header_workshop.png)"
   ]
  },
  {
   "cell_type": "markdown",
   "metadata": {
    "application/vnd.databricks.v1+cell": {
     "cellMetadata": {},
     "inputWidgets": {},
     "nuid": "ab3af12c-3b58-42cf-bf87-84d0ae971354",
     "showTitle": false,
     "tableResultSettingsMap": {},
     "title": ""
    }
   },
   "source": [
    "\n",
    " Item | Description |\n",
    " --- | --- |\n",
    " **Objective** | Create different UC Functions |\n",
    " **Databricks Run Time** | DBR 16.4 LTS |\n",
    " **Language** | Python, Pyspark and SQL |\n"
   ]
  },
  {
   "cell_type": "markdown",
   "metadata": {
    "application/vnd.databricks.v1+cell": {
     "cellMetadata": {},
     "inputWidgets": {},
     "nuid": "63b07faf-51a7-4770-b62a-4906f0bf0534",
     "showTitle": false,
     "tableResultSettingsMap": {},
     "title": ""
    }
   },
   "source": [
    "![](https://raw.githubusercontent.com/Databricks-BR/workshop_agents/refs/heads/main/demo-main/img/img/02_diagram.png)"
   ]
  },
  {
   "cell_type": "markdown",
   "metadata": {
    "application/vnd.databricks.v1+cell": {
     "cellMetadata": {},
     "inputWidgets": {},
     "nuid": "bd33a12a-2fee-4b67-94fd-9dbeaa1b0a8b",
     "showTitle": false,
     "tableResultSettingsMap": {},
     "title": ""
    }
   },
   "source": [
    "## Create Functions"
   ]
  },
  {
   "cell_type": "markdown",
   "metadata": {
    "application/vnd.databricks.v1+cell": {
     "cellMetadata": {},
     "inputWidgets": {},
     "nuid": "1f5bf223-593f-4382-b0c4-ba0a1d1a8564",
     "showTitle": false,
     "tableResultSettingsMap": {},
     "title": ""
    }
   },
   "source": [
    "![](https://raw.githubusercontent.com/Databricks-BR/workshop_agents/refs/heads/main/demo-main/img/img/02_functions.png)\n",
    "\n",
    "**SQL functions** are designed to simplify and streamline data processing within queries by allowing users to encapsulate reusable logic for calculations, value transformations, or aggregating results directly in SQL statements; within Databricks, these functions are governed by Unity Catalog, ensuring centralized, secure management and consistent governance across all assets."
   ]
  },
  {
   "cell_type": "markdown",
   "metadata": {
    "application/vnd.databricks.v1+cell": {
     "cellMetadata": {},
     "inputWidgets": {},
     "nuid": "e3fc65c4-bbe4-4ed0-80b8-c1906b8e234a",
     "showTitle": false,
     "tableResultSettingsMap": {},
     "title": ""
    }
   },
   "source": [
    "### Get Store by ID"
   ]
  },
  {
   "cell_type": "code",
   "execution_count": 0,
   "metadata": {
    "application/vnd.databricks.v1+cell": {
     "cellMetadata": {
      "byteLimit": 2048000,
      "implicitDf": true,
      "rowLimit": 10000
     },
     "inputWidgets": {},
     "nuid": "b9c17ac0-2090-42f7-bc04-71233cfd0d87",
     "showTitle": false,
     "tableResultSettingsMap": {},
     "title": ""
    }
   },
   "outputs": [],
   "source": [
    "%sql\n",
    "CREATE OR REPLACE FUNCTION vinicius_fialho_testes.workshop_ml_agentes.get_store_by_id(\n",
    "  p_store_id STRING COMMENT 'The unique ID of the store to be searched.'\n",
    ")\n",
    "RETURNS TABLE(\n",
    "  store STRING COMMENT 'Name or identifier of the store.',\n",
    "  store_type STRING COMMENT 'Type or category of the store.',\n",
    "  store_zip STRING COMMENT 'Zip code of the store.',\n",
    "  retailer STRING COMMENT 'Name of the retailer the store belongs to.',\n",
    "  store_lat_long STRING COMMENT 'Latitude and longitude coordinates of the store.'\n",
    ")\n",
    "COMMENT 'Function to retrieve store data based on the provided ID. It returns information from the mvw_inventory metric view.'\n",
    "RETURN\n",
    "  SELECT\n",
    "    store,\n",
    "    store_type,\n",
    "    store_zip,\n",
    "    retailer,\n",
    "    store_lat_long\n",
    "  FROM\n",
    "    vinicius_fialho_testes.workshop_ml_agentes.dim_store\n",
    "  WHERE store_id = p_store_id\n",
    "  LIMIT 1;"
   ]
  },
  {
   "cell_type": "code",
   "execution_count": 0,
   "metadata": {
    "application/vnd.databricks.v1+cell": {
     "cellMetadata": {
      "byteLimit": 2048000,
      "implicitDf": true,
      "rowLimit": 10000
     },
     "inputWidgets": {},
     "nuid": "3a7d53f3-6a98-48bc-8e16-b98c32318b63",
     "showTitle": false,
     "tableResultSettingsMap": {},
     "title": ""
    }
   },
   "outputs": [],
   "source": [
    "%sql\n",
    "SELECT * FROM vinicius_fialho_testes.workshop_ml_agentes.get_store_by_id(\"4823349147981451781\")"
   ]
  },
  {
   "cell_type": "markdown",
   "metadata": {
    "application/vnd.databricks.v1+cell": {
     "cellMetadata": {},
     "inputWidgets": {},
     "nuid": "0e32d885-c709-4a49-95e5-68398645438b",
     "showTitle": false,
     "tableResultSettingsMap": {},
     "title": ""
    }
   },
   "source": [
    "### Calculate Lat and Long"
   ]
  },
  {
   "cell_type": "code",
   "execution_count": 0,
   "metadata": {
    "application/vnd.databricks.v1+cell": {
     "cellMetadata": {
      "byteLimit": 2048000,
      "implicitDf": true,
      "rowLimit": 10000
     },
     "inputWidgets": {},
     "nuid": "bd3bc62a-bc7e-4e17-9a07-882d40fc1183",
     "showTitle": false,
     "tableResultSettingsMap": {},
     "title": ""
    }
   },
   "outputs": [],
   "source": [
    "%sql\n",
    "CREATE OR REPLACE FUNCTION vinicius_fialho_testes.workshop_ml_agentes.geocode_address(address STRING)\n",
    "RETURNS STRUCT<latitude DOUBLE, longitude DOUBLE>\n",
    "LANGUAGE PYTHON\n",
    "AS\n",
    "$$\n",
    "import http.client\n",
    "import json\n",
    "import urllib.parse\n",
    "\n",
    "def geocode_via_nominatim(address):\n",
    "    if not address:\n",
    "        return (None, None)\n",
    "        \n",
    "    encoded_address = urllib.parse.quote(address)\n",
    "    \n",
    "    conn = http.client.HTTPSConnection('nominatim.openstreetmap.org')\n",
    "    \n",
    "    headers = { \n",
    "        'User-Agent': f'Databricks-Geocoding-Function/1.0',\n",
    "        'Accept': 'application/json'\n",
    "    } \n",
    "    \n",
    "    # Corrected f-string syntax for request_path\n",
    "    request_path = f'/search?q={encoded_address}&format=json&limit=1'\n",
    "    \n",
    "    try:\n",
    "        conn.request('GET', request_path, headers=headers)\n",
    "        \n",
    "        response = conn.getresponse()\n",
    "        \n",
    "        data = json.loads(response.read().decode())\n",
    "        \n",
    "        if data and len(data) > 0:\n",
    "            return (float(data[0]['lat']), float(data[0]['lon']))\n",
    "        else:\n",
    "            return (None, None)\n",
    "    except Exception:\n",
    "        return (None, None)\n",
    "    finally:\n",
    "        conn.close()\n",
    "\n",
    "result = geocode_via_nominatim(address)\n",
    "return {'latitude': result[0], 'longitude': result[1]}\n",
    "$$;"
   ]
  },
  {
   "cell_type": "code",
   "execution_count": 0,
   "metadata": {
    "application/vnd.databricks.v1+cell": {
     "cellMetadata": {
      "byteLimit": 2048000,
      "implicitDf": true,
      "rowLimit": 10000
     },
     "inputWidgets": {},
     "nuid": "64997154-c39d-44f5-841f-7c8ae6443794",
     "showTitle": false,
     "tableResultSettingsMap": {},
     "title": ""
    }
   },
   "outputs": [],
   "source": [
    "%sql\n",
    "WITH geocoded_location AS (\n",
    "  SELECT \n",
    "    vinicius_fialho_testes.workshop_ml_agentes.geocode_address('Rua Sete de Setembro, 66, Rio de Janeiro, Brazil') AS coords\n",
    ")\n",
    "SELECT\n",
    "  coords.latitude,\n",
    "  coords.longitude\n",
    "FROM\n",
    "  geocoded_location;"
   ]
  }
 ],
 "metadata": {
  "application/vnd.databricks.v1+notebook": {
   "computePreferences": null,
   "dashboards": [],
   "environmentMetadata": {
    "base_environment": "",
    "environment_version": "3"
   },
   "inputWidgetPreferences": null,
   "language": "python",
   "notebookMetadata": {
    "mostRecentlyExecutedCommandWithImplicitDF": {
     "commandId": 7270276629177434,
     "dataframes": [
      "_sqldf"
     ]
    },
    "pythonIndentUnit": 2
   },
   "notebookName": "02_create_functions",
   "widgets": {}
  },
  "language_info": {
   "name": "python"
  }
 },
 "nbformat": 4,
 "nbformat_minor": 0
}
