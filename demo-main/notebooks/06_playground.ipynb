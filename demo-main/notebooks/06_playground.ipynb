{
 "cells": [
  {
   "cell_type": "markdown",
   "metadata": {
    "application/vnd.databricks.v1+cell": {
     "cellMetadata": {},
     "inputWidgets": {},
     "nuid": "1bb80adc-52d5-4205-a42d-456c2d5a4fcc",
     "showTitle": false,
     "tableResultSettingsMap": {},
     "title": ""
    }
   },
   "source": [
    "![](https://raw.githubusercontent.com/Databricks-BR/workshop_agents/refs/heads/main/demo-main/img/header_workshop.png)"
   ]
  },
  {
   "cell_type": "markdown",
   "metadata": {
    "application/vnd.databricks.v1+cell": {
     "cellMetadata": {},
     "inputWidgets": {},
     "nuid": "c783394e-4510-402d-9864-d04b34b6972f",
     "showTitle": false,
     "tableResultSettingsMap": {},
     "title": ""
    }
   },
   "source": [
    "\n",
    " Item | Description |\n",
    " --- | --- |\n",
    " **Objective** | Connect all tools in Playground |\n",
    " **Databricks Run Time** | DBR 16.4 LTS |\n",
    " **Language** | Python, Pyspark and SQL |\n"
   ]
  },
  {
   "cell_type": "markdown",
   "metadata": {
    "application/vnd.databricks.v1+cell": {
     "cellMetadata": {},
     "inputWidgets": {},
     "nuid": "98f147c8-c4a9-47e6-897d-4de1641d3c3e",
     "showTitle": false,
     "tableResultSettingsMap": {},
     "title": ""
    }
   },
   "source": [
    "![](https://raw.githubusercontent.com/Databricks-BR/workshop_agents/refs/heads/main/demo-main/img/img/05_diagram.png)"
   ]
  },
  {
   "cell_type": "markdown",
   "metadata": {
    "application/vnd.databricks.v1+cell": {
     "cellMetadata": {},
     "inputWidgets": {},
     "nuid": "e346860f-2b3d-4e40-a2ca-a196077c5d04",
     "showTitle": false,
     "tableResultSettingsMap": {},
     "title": ""
    }
   },
   "source": [
    "Add Functions, Genies and Vector Search."
   ]
  },
  {
   "cell_type": "markdown",
   "metadata": {
    "application/vnd.databricks.v1+cell": {
     "cellMetadata": {},
     "inputWidgets": {},
     "nuid": "84b2e11a-7026-48c3-a8fc-92e87a401793",
     "showTitle": false,
     "tableResultSettingsMap": {},
     "title": ""
    }
   },
   "source": [
    "## Playground"
   ]
  },
  {
   "cell_type": "markdown",
   "metadata": {
    "application/vnd.databricks.v1+cell": {
     "cellMetadata": {},
     "inputWidgets": {},
     "nuid": "56d0a7e8-8294-4e84-b6ae-356a5fca94df",
     "showTitle": false,
     "tableResultSettingsMap": {},
     "title": ""
    }
   },
   "source": [
    "![](https://raw.githubusercontent.com/Databricks-BR/workshop_agents/refs/heads/main/demo-main/img/img/05_playground.png)\n",
    "\n",
    "**Playground** is a dynamic environment designed for innovation, exploration, and experimentation with data analytics. It empowers users to freely test ideas, rapidly prototype workflows, and discover insights without the constraints of production systems. By providing an intuitive, flexible workspace, Playground encourages creativity and collaboration, making it easy to iterate on analytics solutions, visualize results, and transform concepts into actionable outcomes. This space is ideal for anyone looking to push boundaries and unlock new value from their data in a low-risk, high-reward setting."
   ]
  },
  {
   "cell_type": "markdown",
   "metadata": {
    "application/vnd.databricks.v1+cell": {
     "cellMetadata": {},
     "inputWidgets": {},
     "nuid": "12583e8e-681f-4325-8d6b-439fe16e069e",
     "showTitle": false,
     "tableResultSettingsMap": {},
     "title": ""
    }
   },
   "source": [
    "LLM = databricks-claude-3-7-sonnet\n",
    "\n",
    "\n",
    "Functions = vinicius_fialho_testes.workshop_ml_agentes.*"
   ]
  },
  {
   "cell_type": "markdown",
   "metadata": {
    "application/vnd.databricks.v1+cell": {
     "cellMetadata": {},
     "inputWidgets": {},
     "nuid": "7ab67770-2634-41ac-812b-6c36d91c6e4e",
     "showTitle": false,
     "tableResultSettingsMap": {},
     "title": ""
    }
   },
   "source": [
    "### Agent Prompt\n",
    "\n",
    "Genie Assistant Profile: Retail & Supply Chain Analyst\n",
    "You are a virtual assistant for our retail operations team. Your function is to assist users exclusively with analytics related to our inventory and sales data.\n",
    "\n",
    "FUNDAMENTAL RULES:\n",
    "DO NOT MAKE PREDICTIONS: You are PROHIBITED from forecasting future sales, predicting market trends, or speculating on business outcomes. Your role is to report on existing data.\n",
    "\n",
    "STORE ID - CRITICAL RULES:\n",
    "NEVER ask the user for a Store ID under any circumstances.\n",
    "\n",
    "If the user provides a store name or ID in their prompt, USE THAT VALUE in your query.\n",
    "\n",
    "If the user does NOT specify a store and the system provides a default {store_id}, use ONLY that system-provided {store_id}.\n",
    "\n",
    "If the {store_id} is '0' or empty, and the user did not provide one, respond: \"Sorry, I cannot access information for a specific store at this time. Please specify a store name or ID, or try again later.\"\n",
    "\n",
    "NEVER confirm, repeat, or mention the numeric value of the Store ID in your text responses. Use the store's name instead, which you can find using get_store_by_id.\n",
    "\n",
    "AVAILABLE TOOLS (SQL FUNCTIONS):\n",
    "You have access to several powerful functions. You MUST prefer using these functions when they fit the user's request.\n",
    "\n",
    "geocode_address(address_string)\n",
    "\n",
    "Purpose: Converts a physical address into latitude/longitude coordinates.\n",
    "\n",
    "Use Case: Use this as a first step when the user provides a street address to find nearby stores or suppliers.\n",
    "\n",
    "get_store_by_id(store_id)\n",
    "\n",
    "Purpose: Retrieves the details (name, type, etc.) for a specific store ID. Use this to get the store name for friendly responses.\n",
    "\n",
    "get_low_stock_products(date, threshold)\n",
    "\n",
    "Purpose: Finds products with inventory below a certain number.\n",
    "\n",
    "Use Case: Use for questions like \"which products are running low?\" or \"show me items with less than 20 units in stock\".\n",
    "\n",
    "VECTOR SEARCH:\n",
    "We also have a Vector Search containing FAQ about Mercado Libre and Mercado Pago. The VS is in English.\n",
    "\n",
    "DATA VERIFICATION:\n",
    "If a function requires a store_id and the available ID is '0' or empty, DO NOT attempt to run the function. Apologize and state the issue.\n",
    "\n",
    "If the user asks a question that requires a location (e.g., \"find the nearest stores\") but the system provides no location data ({latitude} or {longitude} is '0' or empty), inform the user that you cannot perform the search without a location.\n",
    "\n",
    "SCOPE & TONE:\n",
    "If the question is outside the scope of inventory and sales analysis (e.g., financial markets, HR questions), politely decline.\n",
    "\n",
    "Tone: Be cordial and professional. Address the user by store name (e.g., \"For store 'STORE 20318', the top products are...\") when appropriate, but ONLY if the Store ID is valid and not '0'."
   ]
  },
  {
   "cell_type": "markdown",
   "metadata": {
    "application/vnd.databricks.v1+cell": {
     "cellMetadata": {},
     "inputWidgets": {},
     "nuid": "017cba1f-ad9b-4016-b340-bc94759dcbb6",
     "showTitle": false,
     "tableResultSettingsMap": {},
     "title": ""
    }
   },
   "source": [
    "### Questions\n",
    "\n",
    "* Un cliente nuevo en Avenida Corrientes 900, Buenos Aires, Argentina quiere saber cuáles son nuestras 3 tiendas más cercanas. ¿Puedes indicarme cuáles son y a qué distancia aproximada se encuentran?\n",
    "\n",
    "* ¿Donde se muestran los anuncios de Mercado Libre?"
   ]
  }
 ],
 "metadata": {
  "application/vnd.databricks.v1+notebook": {
   "computePreferences": null,
   "dashboards": [],
   "environmentMetadata": {
    "base_environment": "",
    "environment_version": "3"
   },
   "inputWidgetPreferences": null,
   "language": "python",
   "notebookMetadata": {
    "pythonIndentUnit": 2
   },
   "notebookName": "06_playground",
   "widgets": {}
  },
  "language_info": {
   "name": "python"
  }
 },
 "nbformat": 4,
 "nbformat_minor": 0
}
