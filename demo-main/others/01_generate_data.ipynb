{
 "cells": [
  {
   "cell_type": "markdown",
   "metadata": {
    "application/vnd.databricks.v1+cell": {
     "cellMetadata": {},
     "inputWidgets": {},
     "nuid": "d5f11487-3fc7-47ec-b8a4-7f4d6c5a1278",
     "showTitle": false,
     "tableResultSettingsMap": {},
     "title": ""
    }
   },
   "source": [
    "![](https://raw.githubusercontent.com/Databricks-BR/workshop_agents/refs/heads/main/demo-main/img/header_workshop.png)"
   ]
  },
  {
   "cell_type": "markdown",
   "metadata": {
    "application/vnd.databricks.v1+cell": {
     "cellMetadata": {},
     "inputWidgets": {},
     "nuid": "fbdacccb-2348-4884-a803-540e25ee80a4",
     "showTitle": false,
     "tableResultSettingsMap": {},
     "title": ""
    }
   },
   "source": [
    "# Generate Data"
   ]
  },
  {
   "cell_type": "markdown",
   "metadata": {
    "application/vnd.databricks.v1+cell": {
     "cellMetadata": {},
     "inputWidgets": {},
     "nuid": "40f8ff88-7515-46c1-98fe-60d496a7eb27",
     "showTitle": false,
     "tableResultSettingsMap": {},
     "title": ""
    }
   },
   "source": [
    "\n",
    " Item | Description |\n",
    " --- | --- |\n",
    " **Objective** | Generate Sales and Logistics Tables |\n",
    " **Databricks Run Time** | DBR 16.4 LTS |\n",
    " **Language** | Python, Pyspark and SQL |\n"
   ]
  },
  {
   "cell_type": "markdown",
   "metadata": {
    "application/vnd.databricks.v1+cell": {
     "cellMetadata": {},
     "inputWidgets": {},
     "nuid": "73baaccc-166d-4aaa-a9f4-9db5f7a8d24d",
     "showTitle": false,
     "tableResultSettingsMap": {},
     "title": ""
    }
   },
   "source": [
    "![](https://raw.githubusercontent.com/Databricks-BR/workshop_agents/refs/heads/main/demo-main/img/img/01_diagram_2.png)"
   ]
  },
  {
   "cell_type": "markdown",
   "metadata": {
    "application/vnd.databricks.v1+cell": {
     "cellMetadata": {},
     "inputWidgets": {},
     "nuid": "6bc5c9d9-e6d6-4b47-becd-a0b27ee92f1f",
     "showTitle": false,
     "tableResultSettingsMap": {},
     "title": ""
    }
   },
   "source": [
    "## Generate Tables"
   ]
  },
  {
   "cell_type": "code",
   "execution_count": 0,
   "metadata": {
    "application/vnd.databricks.v1+cell": {
     "cellMetadata": {
      "byteLimit": 2048000,
      "rowLimit": 10000
     },
     "collapsed": true,
     "inputWidgets": {},
     "nuid": "7cb54135-6fba-485b-81cc-4f86fa55402c",
     "showTitle": false,
     "tableResultSettingsMap": {},
     "title": ""
    }
   },
   "outputs": [],
   "source": [
    "import pandas as pd\n",
    "import random\n",
    "from datetime import date, timedelta"
   ]
  },
  {
   "cell_type": "code",
   "execution_count": 0,
   "metadata": {
    "application/vnd.databricks.v1+cell": {
     "cellMetadata": {
      "byteLimit": 2048000,
      "rowLimit": 10000
     },
     "collapsed": true,
     "inputWidgets": {},
     "nuid": "c8313251-08da-4fc1-a919-d7f5993a54ed",
     "showTitle": false,
     "tableResultSettingsMap": {},
     "title": ""
    }
   },
   "outputs": [],
   "source": [
    "# --- Configuration ---\n",
    "NUM_PRODUCTS = 500\n",
    "NUM_STORES = 100\n",
    "NUM_INVENTORY_RECORDS = 10000\n",
    "NUM_SALES_RECORDS = 10000"
   ]
  },
  {
   "cell_type": "code",
   "execution_count": 0,
   "metadata": {
    "application/vnd.databricks.v1+cell": {
     "cellMetadata": {
      "byteLimit": 2048000,
      "rowLimit": 10000
     },
     "collapsed": true,
     "inputWidgets": {},
     "nuid": "2bb000b5-04c8-437c-9314-af128a335a2e",
     "showTitle": false,
     "tableResultSettingsMap": {},
     "title": ""
    }
   },
   "outputs": [],
   "source": [
    "# --- Product Data Generation ---\n",
    "def generate_product_data(num_products):\n",
    "    \"\"\"Generates sample product data.\"\"\"\n",
    "    \n",
    "    product_types = [\n",
    "        \"Funda para Celular\", \"Auriculares Inalámbricos\", \"Teclado Mecánico\", \"Mouse Gamer\",\n",
    "        \"Monitor LED\", \"Cable USB-C\", \"Cargador Rápido\", \"Mochila Urbana\", \"Termo de Acero\",\n",
    "        \"Mate de Calabaza\", \"Bombilla de Alpaca\", \"Remera de Algodón\", \"Pantalón de Jean\",\n",
    "        \"Zapatillas Deportivas\", \"Lámpara de Escritorio\", \"Silla Ergonómica\", \"Botella Térmica\",\n",
    "        \"Parlante Bluetooth\", \"Smartwatch\", \"Tablet 10 Pulgadas\", \"Webcam HD\"\n",
    "    ]\n",
    "    \n",
    "    product_descriptors = [\n",
    "        \"Resistente\", \"Bluetooth 5.0\", \"RGB\", \"Ergonómico\", \"4K Ultra HD\",\n",
    "        \"Reforzado\", \"Inteligente\", \"Impermeable\", \"1 Litro\", \"Premium\",\n",
    "        \"Pico de Loro\", \"Estampada\", \"Slim Fit\", \"Para Correr\", \"Luz Cálida\",\n",
    "        \"Soporte Lumbar\", \"500ml\", \"Sonido Envolvente\", \"GPS Integrado\",\n",
    "        \"Android 12\", \"con Micrófono\"\n",
    "    ]\n",
    "    \n",
    "    data = []\n",
    "    product_ids = []\n",
    "    for i in range(num_products):\n",
    "        # Cast product_id to string to avoid Arrow conversion errors in Spark\n",
    "        product_id = str(random.randint(10**18, 10**19 - 1))\n",
    "        product_ids.append(product_id)\n",
    "        \n",
    "        product_name = f\"{random.choice(product_types)} {random.choice(product_descriptors)}\"\n",
    "        \n",
    "        data.append({\n",
    "            \"product_id\": product_id,\n",
    "            \"supplier\": f\"SUPPLIER {random.randint(1, 20)}\",\n",
    "            \"product\": product_name,\n",
    "            \"upc\": str(random.randint(10**12, 10**13 - 1)).zfill(13)\n",
    "        })\n",
    "    return pd.DataFrame(data), product_ids"
   ]
  },
  {
   "cell_type": "code",
   "execution_count": 0,
   "metadata": {
    "application/vnd.databricks.v1+cell": {
     "cellMetadata": {
      "byteLimit": 2048000,
      "rowLimit": 10000
     },
     "collapsed": true,
     "inputWidgets": {},
     "nuid": "ecf91dd5-9a10-4378-8550-30c20a7cf31d",
     "showTitle": false,
     "tableResultSettingsMap": {},
     "title": ""
    }
   },
   "outputs": [],
   "source": [
    "# --- Store Data Generation ---\n",
    "def generate_store_data(num_stores):\n",
    "    \"\"\"Generates sample store data with locations primarily in Argentina.\"\"\"\n",
    "    data = []\n",
    "    store_ids = []\n",
    "    for i in range(num_stores):\n",
    "        # Cast store_id to string to avoid Arrow conversion errors in Spark\n",
    "        store_id = str(random.randint(10**18, 10**19 - 1))\n",
    "        store_ids.append(store_id)\n",
    "        \n",
    "        # Argentina latitude and longitude ranges\n",
    "        lat = random.uniform(-55.0, -22.0)\n",
    "        lon = random.uniform(-73.0, -54.0)\n",
    "        \n",
    "        data.append({\n",
    "            \"store_id\": store_id,\n",
    "            \"store\": f\"STORE {random.randint(10000, 99999)}\",\n",
    "            \"store_type\": f\"STORE TYPE {random.randint(1, 30)}\",\n",
    "            \"store_zip\": str(random.randint(1000, 9999)), # Common ZIP format in Argentina\n",
    "            \"store_lat_long\": f\"{lat:.2f},{lon:.2f}\",\n",
    "            \"retailer\": f\"RETAILER {random.randint(1, 5)}\"\n",
    "        })\n",
    "    return pd.DataFrame(data), store_ids"
   ]
  },
  {
   "cell_type": "code",
   "execution_count": 0,
   "metadata": {
    "application/vnd.databricks.v1+cell": {
     "cellMetadata": {
      "byteLimit": 2048000,
      "rowLimit": 10000
     },
     "collapsed": true,
     "inputWidgets": {},
     "nuid": "db62dcde-98ef-4bd5-99e2-0dbc4e2e03e0",
     "showTitle": false,
     "tableResultSettingsMap": {},
     "title": ""
    }
   },
   "outputs": [],
   "source": [
    "# --- Inventory Fact Table Generation ---\n",
    "def generate_inventory_data(num_records, store_ids, product_ids):\n",
    "    \"\"\"Generates sample inventory data, linking stores and products.\"\"\"\n",
    "    \n",
    "    start_date = date(2021, 1, 1)\n",
    "    end_date = date(2023, 12, 31)\n",
    "    date_range = (end_date - start_date).days\n",
    "    \n",
    "    data = []\n",
    "    for _ in range(num_records):\n",
    "        random_days = random.randrange(date_range)\n",
    "        \n",
    "        data.append({\n",
    "            # Cast inventory_id to string to avoid Arrow conversion errors in Spark\n",
    "            \"inventory_id\": str(random.randint(10**18, 10**19 - 1)),\n",
    "            \"store_id\": random.choice(store_ids),\n",
    "            \"product_id\": random.choice(product_ids),\n",
    "            \"date_key\": start_date + timedelta(days=random_days),\n",
    "            \"on_hand_quantity\": random.randint(0, 100)\n",
    "        })\n",
    "    return pd.DataFrame(data)"
   ]
  },
  {
   "cell_type": "code",
   "execution_count": 0,
   "metadata": {
    "application/vnd.databricks.v1+cell": {
     "cellMetadata": {
      "byteLimit": 2048000,
      "rowLimit": 10000
     },
     "collapsed": true,
     "inputWidgets": {},
     "nuid": "c333fbc5-3bc6-4caf-b969-66b762b73abb",
     "showTitle": false,
     "tableResultSettingsMap": {},
     "title": ""
    }
   },
   "outputs": [],
   "source": [
    "# --- Sales Fact Table Generation ---\n",
    "def generate_sales_data(num_records, store_ids, product_ids):\n",
    "    \"\"\"Generates sample sales data, linking stores and products.\"\"\"\n",
    "    \n",
    "    start_date = date(2021, 1, 1)\n",
    "    end_date = date(2023, 12, 31)\n",
    "    date_range = (end_date - start_date).days\n",
    "    \n",
    "    data = []\n",
    "    for _ in range(num_records):\n",
    "        random_days = random.randrange(date_range)\n",
    "        quantity = random.randint(1, 10)\n",
    "        price = random.uniform(5.0, 500.0)\n",
    "        \n",
    "        data.append({\n",
    "            # Cast sales_id to string to avoid Arrow conversion errors in Spark\n",
    "            \"sales_id\": str(random.randint(10**10, 10**11 - 1)),\n",
    "            \"store_id\": random.choice(store_ids),\n",
    "            \"product_id\": random.choice(product_ids),\n",
    "            \"date_key\": start_date + timedelta(days=random_days),\n",
    "            \"sales_quantity\": quantity,\n",
    "            \"sales_amount\": quantity * price\n",
    "        })\n",
    "    return pd.DataFrame(data)"
   ]
  },
  {
   "cell_type": "code",
   "execution_count": 0,
   "metadata": {
    "application/vnd.databricks.v1+cell": {
     "cellMetadata": {
      "byteLimit": 2048000,
      "rowLimit": 10000
     },
     "collapsed": true,
     "inputWidgets": {},
     "nuid": "2d38a4f1-c6f6-4bd5-8619-d9083004a6d2",
     "showTitle": false,
     "tableResultSettingsMap": {},
     "title": ""
    }
   },
   "outputs": [],
   "source": [
    "# --- Main execution block ---\n",
    "if __name__ == \"__main__\":\n",
    "    print(\"Generating dimension tables...\")\n",
    "    # Generate dimension data and get lists of their IDs for joins\n",
    "    dim_product_pd, product_ids = generate_product_data(NUM_PRODUCTS)\n",
    "    dim_store_pd, store_ids = generate_store_data(NUM_STORES)\n",
    "\n",
    "    print(\"Generating fact tables...\")\n",
    "    # Generate fact data using the dimension IDs\n",
    "    ft_inventory_pd = generate_inventory_data(NUM_INVENTORY_RECORDS, store_ids, product_ids)\n",
    "    ft_sales_pd = generate_sales_data(NUM_SALES_RECORDS, store_ids, product_ids)\n",
    "    \n",
    "    print(\"Converting pandas DataFrames to Spark DataFrames...\")\n",
    "    # Convert pandas DataFrames to Spark DataFrames\n",
    "    # The 'spark' variable is automatically available in Databricks notebooks\n",
    "    dim_product_df = spark.createDataFrame(dim_product_pd)\n",
    "    dim_store_df = spark.createDataFrame(dim_store_pd)\n",
    "    ft_inventory_df = spark.createDataFrame(ft_inventory_pd)\n",
    "    ft_sales_df = spark.createDataFrame(ft_sales_pd)\n",
    "\n",
    "    print(\"Saving DataFrames as tables in Databricks...\")\n",
    "    # Save the DataFrames as tables in Databricks\n",
    "    # This will overwrite the tables if they already exist\n",
    "    dim_product_df.write.mode(\"overwrite\").saveAsTable(\"vinicius_fialho_testes.workshop_ml_agentes.dim_product\")\n",
    "    dim_store_df.write.mode(\"overwrite\").saveAsTable(\"vinicius_fialho_testes.workshop_ml_agentes.dim_store\")\n",
    "    ft_inventory_df.write.mode(\"overwrite\").saveAsTable(\"vinicius_fialho_testes.workshop_ml_agentes.ft_inventory\")\n",
    "    ft_sales_df.write.mode(\"overwrite\").saveAsTable(\"vinicius_fialho_testes.workshop_ml_agentes.ft_sales\")\n",
    "    \n",
    "    print(\"\\n--- Process Complete ---\")\n",
    "    print(f\"Table 'dim_product' created with {dim_product_df.count()} records.\")\n",
    "    print(f\"Table 'dim_store' created with {dim_store_df.count()} records.\")\n",
    "    print(f\"Table 'ft_inventory' created with {ft_inventory_df.count()} records.\")\n",
    "    print(f\"Table 'ft_sales' created with {ft_sales_df.count()} records.\")\n",
    "    print(\"\\nYou can now query these tables using SQL, e.g., 'SELECT * FROM dim_product LIMIT 10'.\")"
   ]
  },
  {
   "cell_type": "markdown",
   "metadata": {
    "application/vnd.databricks.v1+cell": {
     "cellMetadata": {},
     "inputWidgets": {},
     "nuid": "f9d3c365-d83d-4e65-a430-77a2ed771320",
     "showTitle": false,
     "tableResultSettingsMap": {},
     "title": ""
    }
   },
   "source": [
    "## Display Tables"
   ]
  },
  {
   "cell_type": "markdown",
   "metadata": {
    "application/vnd.databricks.v1+cell": {
     "cellMetadata": {},
     "inputWidgets": {},
     "nuid": "7d8f75dd-14e9-4e04-a017-eff082b159bf",
     "showTitle": false,
     "tableResultSettingsMap": {},
     "title": ""
    }
   },
   "source": [
    "![](https://raw.githubusercontent.com/Databricks-BR/workshop_agents/refs/heads/main/demo-main/img/img/01_unity_catalog_delta.png)\n",
    "\n",
    "**Unity Catalog** delivers unified, open governance for data and AI assets by centralizing access management, tracking data lineage, supporting monitoring and auditing, and enhancing data discovery—offering organizations a comprehensive, single source of truth across diverse sources and formats. **Delta Lake**, as a foundational storage layer, ensures performance and reliability through ACID transactions, version control with time travel, and optimized support for both batch and streaming data, enabling interoperability across open formats.\n",
    "\n",
    "Together, Unity Catalog and Delta Lake offer an integrated solution that combines robust governance with trusted, high-performance storage for modern data environments."
   ]
  },
  {
   "cell_type": "code",
   "execution_count": 0,
   "metadata": {
    "application/vnd.databricks.v1+cell": {
     "cellMetadata": {
      "byteLimit": 2048000,
      "implicitDf": true,
      "rowLimit": 10000
     },
     "inputWidgets": {},
     "nuid": "f54742b5-2642-4d99-96e8-c9354b89db8d",
     "showTitle": false,
     "tableResultSettingsMap": {},
     "title": ""
    }
   },
   "outputs": [],
   "source": [
    "%sql\n",
    "SELECT *\n",
    "FROM vinicius_fialho_testes.workshop_ml_agentes.dim_product\n",
    "LIMIT 10"
   ]
  },
  {
   "cell_type": "code",
   "execution_count": 0,
   "metadata": {
    "application/vnd.databricks.v1+cell": {
     "cellMetadata": {
      "byteLimit": 2048000,
      "implicitDf": true,
      "rowLimit": 10000
     },
     "inputWidgets": {},
     "nuid": "f497ef8b-f2ca-4490-98bc-0d8c5c887f2d",
     "showTitle": false,
     "tableResultSettingsMap": {},
     "title": ""
    }
   },
   "outputs": [],
   "source": [
    "%sql\n",
    "SELECT *\n",
    "FROM vinicius_fialho_testes.workshop_ml_agentes.dim_store\n",
    "LIMIT 10"
   ]
  },
  {
   "cell_type": "code",
   "execution_count": 0,
   "metadata": {
    "application/vnd.databricks.v1+cell": {
     "cellMetadata": {
      "byteLimit": 2048000,
      "implicitDf": true,
      "rowLimit": 10000
     },
     "inputWidgets": {},
     "nuid": "c15484a3-08c7-4d5b-9ee2-af7abeb51f6f",
     "showTitle": false,
     "tableResultSettingsMap": {},
     "title": ""
    }
   },
   "outputs": [],
   "source": [
    "%sql\n",
    "SELECT *\n",
    "FROM vinicius_fialho_testes.workshop_ml_agentes.ft_inventory\n",
    "LIMIT 10"
   ]
  },
  {
   "cell_type": "code",
   "execution_count": 0,
   "metadata": {
    "application/vnd.databricks.v1+cell": {
     "cellMetadata": {
      "byteLimit": 2048000,
      "implicitDf": true,
      "rowLimit": 10000
     },
     "inputWidgets": {},
     "nuid": "d6edb5a0-f5f0-4009-8434-e31a892f5cdb",
     "showTitle": false,
     "tableResultSettingsMap": {},
     "title": ""
    }
   },
   "outputs": [],
   "source": [
    "%sql\n",
    "SELECT *\n",
    "FROM vinicius_fialho_testes.workshop_ml_agentes.ft_sales\n",
    "LIMIT 10"
   ]
  },
  {
   "cell_type": "markdown",
   "metadata": {
    "application/vnd.databricks.v1+cell": {
     "cellMetadata": {},
     "inputWidgets": {},
     "nuid": "58b6d1bb-0ee2-4006-8ded-83cf4d4f7f3f",
     "showTitle": false,
     "tableResultSettingsMap": {},
     "title": ""
    }
   },
   "source": []
  },
  {
   "cell_type": "markdown",
   "metadata": {
    "application/vnd.databricks.v1+cell": {
     "cellMetadata": {},
     "inputWidgets": {},
     "nuid": "10910e61-4f5b-4f42-aee2-fd5ea6d9c3a1",
     "showTitle": false,
     "tableResultSettingsMap": {},
     "title": ""
    }
   },
   "source": []
  },
  {
   "cell_type": "markdown",
   "metadata": {
    "application/vnd.databricks.v1+cell": {
     "cellMetadata": {},
     "inputWidgets": {},
     "nuid": "1c50cac9-5ce7-4d0a-b9c9-4bcdb4075f31",
     "showTitle": false,
     "tableResultSettingsMap": {},
     "title": ""
    }
   },
   "source": []
  },
  {
   "cell_type": "markdown",
   "metadata": {
    "application/vnd.databricks.v1+cell": {
     "cellMetadata": {},
     "inputWidgets": {},
     "nuid": "bbb06a28-ab69-4336-a4fc-e0e752372495",
     "showTitle": false,
     "tableResultSettingsMap": {},
     "title": ""
    }
   },
   "source": []
  },
  {
   "cell_type": "markdown",
   "metadata": {
    "application/vnd.databricks.v1+cell": {
     "cellMetadata": {},
     "inputWidgets": {},
     "nuid": "1397d661-6d84-4065-b7ed-605761b96048",
     "showTitle": false,
     "tableResultSettingsMap": {},
     "title": ""
    }
   },
   "source": []
  },
  {
   "cell_type": "markdown",
   "metadata": {
    "application/vnd.databricks.v1+cell": {
     "cellMetadata": {},
     "inputWidgets": {},
     "nuid": "84c55e39-9243-4bc0-ab2e-084cba5df399",
     "showTitle": false,
     "tableResultSettingsMap": {},
     "title": ""
    }
   },
   "source": [
    "## Generate Metric Views"
   ]
  },
  {
   "cell_type": "markdown",
   "metadata": {
    "application/vnd.databricks.v1+cell": {
     "cellMetadata": {},
     "inputWidgets": {},
     "nuid": "333380b1-c1ad-476a-8821-636490bd8bfc",
     "showTitle": false,
     "tableResultSettingsMap": {},
     "title": ""
    }
   },
   "source": [
    "### Metric View Inventory"
   ]
  },
  {
   "cell_type": "code",
   "execution_count": 0,
   "metadata": {
    "application/vnd.databricks.v1+cell": {
     "cellMetadata": {
      "byteLimit": 2048000,
      "implicitDf": true,
      "rowLimit": 10000
     },
     "collapsed": true,
     "inputWidgets": {},
     "nuid": "8fee00c6-ae91-4f3e-896e-ebe9331d85f2",
     "showTitle": false,
     "tableResultSettingsMap": {},
     "title": ""
    }
   },
   "outputs": [],
   "source": [
    "%sql\n",
    "CREATE OR REPLACE VIEW vinicius_fialho_testes.workshop_ml_agentes.mvw_inventory (\n",
    "  `Date` COMMENT 'Fecha del registro de inventario (YYYY-MM-DD)',\n",
    "  `Store ID` COMMENT 'Identificador de la tienda',\n",
    "  `Store` COMMENT 'Nombre o identificador de la tienda',\n",
    "  `Store Type` COMMENT 'Tipo o categoría de la tienda',\n",
    "  `Store Zip` COMMENT 'Código postal de la tienda',\n",
    "  `Store Lat Long` COMMENT 'Latitud y longitud de la tienda',\n",
    "  `Retailer` COMMENT 'Nombre del minorista al que pertenece la tienda',\n",
    "  `Product` COMMENT 'Nombre del producto',\n",
    "  `Supplier` COMMENT 'Proveedor del producto',\n",
    "  `Inventory Quantity` COMMENT 'Suma total de la cantidad de inventario disponible'\n",
    ")\n",
    "WITH METRICS\n",
    "LANGUAGE YAML\n",
    "COMMENT 'Vista Métrica centralizada para el análisis de inventario disponible.'\n",
    "AS $$\n",
    "\n",
    "  version: 0.1\n",
    "\n",
    "  # La tabla de hechos 'ft_inventory' es la fuente principal de nuestros datos numéricos.\n",
    "  source: vinicius_fialho_testes.workshop_ml_agentes.ft_inventory\n",
    "\n",
    "  # Unimos las tablas dimensionales para enriquecer los datos de inventario\n",
    "  # con atributos de tienda y producto.\n",
    "  joins:\n",
    "  - name: dim_store\n",
    "    source: vinicius_fialho_testes.workshop_ml_agentes.dim_store\n",
    "    using:\n",
    "    - store_id\n",
    "  - name: dim_product\n",
    "    source: vinicius_fialho_testes.workshop_ml_agentes.dim_product\n",
    "    using:\n",
    "    - product_id\n",
    "  \n",
    "  # Dimensiones: Son los atributos de negocio por los cuales se pueden agrupar o filtrar los datos.\n",
    "  # Provienen tanto de la tabla de hechos (source) como de las dimensiones unidas.\n",
    "  dimensions:\n",
    "  - name: Date\n",
    "    expr: source.date_key\n",
    "  - name: Store ID\n",
    "    expr: dim_store.store_id\n",
    "  - name: Store\n",
    "    expr: dim_store.store\n",
    "  - name: Store Type\n",
    "    expr: dim_store.store_type\n",
    "  - name: Store Zip\n",
    "    expr: dim_store.store_zip\n",
    "  - name: Store Lat Long\n",
    "    expr: dim_store.store_lat_long\n",
    "  - name: Retailer\n",
    "    expr: dim_store.retailer\n",
    "  - name: Product\n",
    "    expr: dim_product.product\n",
    "  - name: Supplier\n",
    "    expr: dim_product.supplier\n",
    "\n",
    "  # Medidas: Son los valores numéricos que se agregan (SUM, AVG, COUNT, etc.).\n",
    "  measures:\n",
    "  - name: Inventory Quantity\n",
    "    expr: SUM(on_hand_quantity)\n",
    "\n",
    "$$"
   ]
  },
  {
   "cell_type": "code",
   "execution_count": 0,
   "metadata": {
    "application/vnd.databricks.v1+cell": {
     "cellMetadata": {
      "byteLimit": 2048000,
      "implicitDf": true,
      "rowLimit": 10000
     },
     "collapsed": true,
     "inputWidgets": {},
     "nuid": "68a68b60-1a5f-4959-bf09-d2007d724c8b",
     "showTitle": false,
     "tableResultSettingsMap": {
      "0": {
       "dataGridStateBlob": "{\"version\":1,\"tableState\":{\"columnPinning\":{\"left\":[\"#row_number#\"],\"right\":[]},\"columnSizing\":{},\"columnVisibility\":{}},\"settings\":{\"columns\":{}},\"syncTimestamp\":1757272187682}",
       "filterBlob": null,
       "queryPlanFiltersBlob": null,
       "tableResultIndex": 0
      }
     },
     "title": ""
    }
   },
   "outputs": [],
   "source": [
    "%sql\n",
    "SELECT\n",
    "  `Store`,\n",
    "  MEASURE(`Inventory Quantity`)\n",
    "FROM vinicius_fialho_testes.workshop_ml_agentes.mvw_inventory\n",
    "GROUP BY 1\n",
    "ORDER BY 2 DESC"
   ]
  },
  {
   "cell_type": "markdown",
   "metadata": {
    "application/vnd.databricks.v1+cell": {
     "cellMetadata": {},
     "inputWidgets": {},
     "nuid": "e2310865-6944-40a2-9420-c9a04ab8da55",
     "showTitle": false,
     "tableResultSettingsMap": {},
     "title": ""
    }
   },
   "source": [
    "### Metric View Sales"
   ]
  },
  {
   "cell_type": "code",
   "execution_count": 0,
   "metadata": {
    "application/vnd.databricks.v1+cell": {
     "cellMetadata": {
      "byteLimit": 2048000,
      "implicitDf": true,
      "rowLimit": 10000
     },
     "inputWidgets": {},
     "nuid": "63583e4d-4a1f-4453-8287-6ba4cf9ce0be",
     "showTitle": false,
     "tableResultSettingsMap": {},
     "title": ""
    }
   },
   "outputs": [],
   "source": [
    "%sql\n",
    "CREATE OR REPLACE VIEW vinicius_fialho_testes.workshop_ml_agentes.mvw_sales (\n",
    "  `Date` COMMENT 'Fecha de la transacción de venta (YYYY-MM-DD)',\n",
    "  `Store` COMMENT 'Nombre o identificador de la tienda donde ocurrió la venta',\n",
    "  `Store Type` COMMENT 'Tipo o categoría de la tienda',\n",
    "  `Store Zip` COMMENT 'Código postal de la tienda',\n",
    "  `Retailer` COMMENT 'Nombre del minorista al que pertenece la tienda',\n",
    "  `Product` COMMENT 'Nombre del producto vendido',\n",
    "  `Supplier` COMMENT 'Proveedor del producto vendido',\n",
    "  `Sales Quantity` COMMENT 'Suma total de unidades vendidas',\n",
    "  `Sales Amount` COMMENT 'Monto total de las ventas en moneda local',\n",
    "  `Average Sales Ticket` COMMENT 'Métrica clave: Monto promedio por cada unidad vendida (Sales Amount / Sales Quantity).'\n",
    ")\n",
    "WITH METRICS\n",
    "LANGUAGE YAML\n",
    "COMMENT 'Vista Métrica centralizada para el análisis de rendimiento de ventas.'\n",
    "AS $$\n",
    "\n",
    "  version: 0.1\n",
    "\n",
    "  # La tabla de hechos 'ft_sales' es la fuente principal de nuestros datos numéricos.\n",
    "  source: vinicius_fialho_testes.workshop_ml_agentes.ft_sales\n",
    "\n",
    "  # Unimos las tablas dimensionales para enriquecer los datos de ventas\n",
    "  # con atributos de tienda y producto.\n",
    "  joins:\n",
    "  - name: dim_store\n",
    "    source: vinicius_fialho_testes.workshop_ml_agentes.dim_store\n",
    "    using:\n",
    "    - store_id\n",
    "  - name: dim_product\n",
    "    source: vinicius_fialho_testes.workshop_ml_agentes.dim_product\n",
    "    using:\n",
    "    - product_id\n",
    "  \n",
    "  # Dimensiones: Son los atributos de negocio por los cuales se pueden agrupar o filtrar los datos.\n",
    "  dimensions:\n",
    "  - name: Date\n",
    "    expr: source.date_key\n",
    "  - name: Store\n",
    "    expr: dim_store.store\n",
    "  - name: Store Type\n",
    "    expr: dim_store.store_type\n",
    "  - name: Store Zip\n",
    "    expr: dim_store.store_zip\n",
    "  - name: Retailer\n",
    "    expr: dim_store.retailer\n",
    "  - name: Product\n",
    "    expr: dim_product.product\n",
    "  - name: Supplier\n",
    "    expr: dim_product.supplier\n",
    "\n",
    "  # Medidas: Son los valores numéricos base que se agregan.\n",
    "  measures:\n",
    "  - name: Sales Quantity\n",
    "    expr: SUM(sales_quantity)\n",
    "  - name: Sales Amount\n",
    "    expr: SUM(sales_amount)\n",
    "    \n",
    "  # --- Métricas Compuestas ---\n",
    "  # Se recalculan durante la agregación para ser precisas en cualquier nivel de granularidad.\n",
    "  # Usamos NULLIF para evitar errores de división por cero si la cantidad de ventas es 0.\n",
    "  - name: Average Sales Ticket\n",
    "    expr: SUM(sales_amount) / NULLIF(SUM(sales_quantity), 0)\n",
    "\n",
    "$$"
   ]
  },
  {
   "cell_type": "code",
   "execution_count": 0,
   "metadata": {
    "application/vnd.databricks.v1+cell": {
     "cellMetadata": {
      "byteLimit": 2048000,
      "implicitDf": true,
      "rowLimit": 10000
     },
     "inputWidgets": {},
     "nuid": "f31f5e84-9422-446c-b30f-0b81a2e50afc",
     "showTitle": false,
     "tableResultSettingsMap": {
      "0": {
       "dataGridStateBlob": "{\"version\":1,\"tableState\":{\"columnPinning\":{\"left\":[\"#row_number#\"],\"right\":[]},\"columnSizing\":{},\"columnVisibility\":{}},\"settings\":{\"columns\":{}},\"syncTimestamp\":1757272279126}",
       "filterBlob": null,
       "queryPlanFiltersBlob": null,
       "tableResultIndex": 0
      }
     },
     "title": ""
    }
   },
   "outputs": [],
   "source": [
    "%sql\n",
    "SELECT\n",
    "  `Store`,\n",
    "  MEASURE(`Sales Quantity`)\n",
    "FROM vinicius_fialho_testes.workshop_ml_agentes.mvw_sales\n",
    "GROUP BY 1\n",
    "ORDER BY 2 DESC"
   ]
  }
 ],
 "metadata": {
  "application/vnd.databricks.v1+notebook": {
   "computePreferences": {
    "hardware": {
     "accelerator": null,
     "gpuPoolId": null,
     "memory": null
    }
   },
   "dashboards": [],
   "environmentMetadata": {
    "base_environment": "",
    "environment_version": "3"
   },
   "inputWidgetPreferences": null,
   "language": "python",
   "notebookMetadata": {
    "mostRecentlyExecutedCommandWithImplicitDF": {
     "commandId": 7270276629190932,
     "dataframes": [
      "_sqldf"
     ]
    },
    "pythonIndentUnit": 2
   },
   "notebookName": "01_generate_data",
   "widgets": {}
  },
  "language_info": {
   "name": "python"
  }
 },
 "nbformat": 4,
 "nbformat_minor": 0
}
