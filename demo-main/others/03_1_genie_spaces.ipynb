{
 "cells": [
  {
   "cell_type": "markdown",
   "metadata": {
    "application/vnd.databricks.v1+cell": {
     "cellMetadata": {},
     "inputWidgets": {},
     "nuid": "50eb756f-2a58-44a8-81f0-4310d8c3934f",
     "showTitle": false,
     "tableResultSettingsMap": {},
     "title": ""
    }
   },
   "source": [
    "![](https://raw.githubusercontent.com/Databricks-BR/workshop_agents/refs/heads/main/demo-main/img/header_workshop.png)"
   ]
  },
  {
   "cell_type": "markdown",
   "metadata": {
    "application/vnd.databricks.v1+cell": {
     "cellMetadata": {},
     "inputWidgets": {},
     "nuid": "15bbe114-2457-4398-b79b-24fcd747d443",
     "showTitle": false,
     "tableResultSettingsMap": {},
     "title": ""
    }
   },
   "source": [
    "\n",
    " Item | Description |\n",
    " --- | --- |\n",
    " **Objective** | Create different Genie Spaces |\n",
    " **Databricks Run Time** | DBR 16.4 LTS |\n",
    " **Language** | SQL |\n"
   ]
  },
  {
   "cell_type": "markdown",
   "metadata": {
    "application/vnd.databricks.v1+cell": {
     "cellMetadata": {},
     "inputWidgets": {},
     "nuid": "d41df937-b8f9-47e7-9009-14c812fac3a4",
     "showTitle": false,
     "tableResultSettingsMap": {},
     "title": ""
    }
   },
   "source": [
    "![](https://raw.githubusercontent.com/Databricks-BR/workshop_agents/refs/heads/main/demo-main/img/img/03_diagram.png)"
   ]
  },
  {
   "cell_type": "markdown",
   "metadata": {
    "application/vnd.databricks.v1+cell": {
     "cellMetadata": {},
     "inputWidgets": {},
     "nuid": "c4774026-fd56-49c6-9f9b-000636920c46",
     "showTitle": false,
     "tableResultSettingsMap": {},
     "title": ""
    }
   },
   "source": [
    "## Create Genie Spaces"
   ]
  },
  {
   "cell_type": "markdown",
   "metadata": {
    "application/vnd.databricks.v1+cell": {
     "cellMetadata": {},
     "inputWidgets": {},
     "nuid": "f99800e2-d653-4bf8-9b90-2dce60192266",
     "showTitle": false,
     "tableResultSettingsMap": {},
     "title": ""
    }
   },
   "source": [
    "![](https://raw.githubusercontent.com/Databricks-BR/workshop_agents/refs/heads/main/demo-main/img/img/03_genie.png)\n",
    "\n",
    "**Genie** is a conversational data analytics tool that empowers users to intuitively interact with their data through natural language, effectively enabling them to “talk to their data.” By translating everyday questions into complex queries and returning actionable insights in real time, Genie removes traditional technical barriers, simplifying the analytics process for users of all skill levels.\n",
    "\n",
    "This approach not only accelerates data-driven decision-making but also democratizes access to business intelligence by allowing anyone to quickly explore, analyze, and visualize data through simple, dialogue-based interactions."
   ]
  },
  {
   "cell_type": "markdown",
   "metadata": {
    "application/vnd.databricks.v1+cell": {
     "cellMetadata": {},
     "inputWidgets": {},
     "nuid": "977ed1df-a662-4b0e-a07d-819f9f3cd568",
     "showTitle": false,
     "tableResultSettingsMap": {},
     "title": ""
    }
   },
   "source": [
    "### Logistics Space\n",
    "\n",
    "#### Instructions\n",
    "* You are a specialized data assistant for inventory analysis.\n",
    "\n",
    "* Your primary goal is to help business users get quick and accurate answers about product stock levels.\n",
    "\n",
    "* You must be helpful, concise, and precise in your responses.\n",
    "\n",
    "* You MUST provide ALL answers in Spanish.\n",
    "\n",
    "* It does not matter what language the user asks the question in. Your entire response, including text, explanations, and column headers in tables, MUST be in Spanish.\n",
    "\n",
    "#### Questions\n",
    "\n",
    "* ¿Cual era el inventario de la funda para celular resistente en diciembre del 2023?\n",
    "\n",
    "* ¿Puedes darme informacion sobre la tienda con id 4823349147981451781?\n",
    "\n",
    "* ¿Qué productos tienen un inventario inferior a 500 unidades?"
   ]
  },
  {
   "cell_type": "markdown",
   "metadata": {
    "application/vnd.databricks.v1+cell": {
     "cellMetadata": {},
     "inputWidgets": {},
     "nuid": "26b8272d-dc4c-4380-b910-55946589bd8e",
     "showTitle": false,
     "tableResultSettingsMap": {},
     "title": ""
    }
   },
   "source": [
    "### Sales Space\n",
    "\n",
    "#### Instructions\n",
    "* You are a specialized data assistant for sales analysis.\n",
    "\n",
    "* Your primary goal is to help business users get quick and accurate answers about product sales.\n",
    "\n",
    "* You must be helpful, concise, and precise in your responses.\n",
    "\n",
    "* You MUST provide ALL answers in Spanish.\n",
    "\n",
    "* It does not matter what language the user asks the question in. Your entire response, including text, explanations, and column headers in tables, MUST be in Spanish.\n",
    "\n",
    "#### Questions\n",
    "\n",
    "* ¿Cuál es el monto promedio de ventas por producto?\n",
    "\n",
    "* Muestralo en orden decreciente"
   ]
  }
 ],
 "metadata": {
  "application/vnd.databricks.v1+notebook": {
   "computePreferences": null,
   "dashboards": [],
   "environmentMetadata": {
    "base_environment": "",
    "environment_version": "3"
   },
   "inputWidgetPreferences": null,
   "language": "python",
   "notebookMetadata": {
    "pythonIndentUnit": 2
   },
   "notebookName": "03_1_genie_spaces",
   "widgets": {}
  },
  "language_info": {
   "name": "python"
  }
 },
 "nbformat": 4,
 "nbformat_minor": 0
}
